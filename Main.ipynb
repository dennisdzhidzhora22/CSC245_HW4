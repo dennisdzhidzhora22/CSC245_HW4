{
 "cells": [
  {
   "metadata": {},
   "cell_type": "markdown",
   "source": "Part 1:",
   "id": "c38e0886ce1dbad9"
  },
  {
   "cell_type": "code",
   "id": "initial_id",
   "metadata": {
    "collapsed": true,
    "ExecuteTime": {
     "end_time": "2025-02-23T17:44:55.867430Z",
     "start_time": "2025-02-23T17:44:55.859700Z"
    }
   },
   "source": [
    "def add_numbers(x, y):\n",
    "    return x + y\n",
    "\n",
    "add_lambda = lambda x, y: x + y\n",
    "\n",
    "print(add_numbers(3, 5))\n",
    "print(add_lambda(3, 5))"
   ],
   "outputs": [
    {
     "name": "stdout",
     "output_type": "stream",
     "text": [
      "8\n",
      "8\n"
     ]
    }
   ],
   "execution_count": 2
  },
  {
   "metadata": {
    "ExecuteTime": {
     "end_time": "2025-02-23T17:56:52.473822Z",
     "start_time": "2025-02-23T17:56:52.467160Z"
    }
   },
   "cell_type": "code",
   "source": [
    "def join_words(*args):\n",
    "    return \" \".join(args)\n",
    "\n",
    "join_lambda = lambda *args: \" \".join(args)\n",
    "\n",
    "print(join_words(\"Hello\", \"world\", \"!\"))\n",
    "print(join_lambda(\"Hello\", \"world\", \"!\"))"
   ],
   "id": "b702d4763b9be468",
   "outputs": [
    {
     "name": "stdout",
     "output_type": "stream",
     "text": [
      "Hello world !\n",
      "Hello world !\n"
     ]
    }
   ],
   "execution_count": 5
  },
  {
   "metadata": {
    "ExecuteTime": {
     "end_time": "2025-02-23T18:09:17.092570Z",
     "start_time": "2025-02-23T18:09:17.086748Z"
    }
   },
   "cell_type": "code",
   "source": [
    "def countdown(n):\n",
    "    if n >= 0:\n",
    "        print(n)\n",
    "        countdown(n - 1)\n",
    "    return\n",
    "\n",
    "countdown(5)"
   ],
   "id": "bbf2d8b191bcc189",
   "outputs": [
    {
     "name": "stdout",
     "output_type": "stream",
     "text": [
      "5\n",
      "4\n",
      "3\n",
      "2\n",
      "1\n",
      "0\n"
     ]
    }
   ],
   "execution_count": 18
  },
  {
   "metadata": {
    "ExecuteTime": {
     "end_time": "2025-02-23T20:07:58.089061Z",
     "start_time": "2025-02-23T20:07:58.075995Z"
    }
   },
   "cell_type": "code",
   "source": [
    "def greet(name):\n",
    "    return f\"Hello, {name}.\"\n",
    "\n",
    "print(greet(\"Alice\"))"
   ],
   "id": "93fe03449c7a6953",
   "outputs": [
    {
     "name": "stdout",
     "output_type": "stream",
     "text": [
      "Hello, Alice.\n"
     ]
    }
   ],
   "execution_count": 1
  },
  {
   "metadata": {
    "ExecuteTime": {
     "end_time": "2025-02-23T20:37:32.761647Z",
     "start_time": "2025-02-23T20:37:32.748456Z"
    }
   },
   "cell_type": "code",
   "source": [
    "def repeat_phrase(phrase, n=2):\n",
    "    for i in range(n):\n",
    "        print(phrase)\n",
    "\n",
    "repeat_phrase(\"Hi! \")\n",
    "print(\" \")\n",
    "repeat_phrase(\"Hi! \", 3)"
   ],
   "id": "695f641ea56a597b",
   "outputs": [
    {
     "name": "stdout",
     "output_type": "stream",
     "text": [
      "Hi! \n",
      "Hi! \n",
      " \n",
      "Hi! \n",
      "Hi! \n",
      "Hi! \n"
     ]
    }
   ],
   "execution_count": 14
  },
  {
   "metadata": {
    "ExecuteTime": {
     "end_time": "2025-02-23T20:16:56.093657Z",
     "start_time": "2025-02-23T20:16:56.079038Z"
    }
   },
   "cell_type": "code",
   "source": [
    "def apply_function(func, value):\n",
    "    return func(value)\n",
    "\n",
    "apply_function(lambda x: x.upper(), \"hello\")"
   ],
   "id": "379a1e89026b71a6",
   "outputs": [
    {
     "data": {
      "text/plain": [
       "'HELLO'"
      ]
     },
     "execution_count": 5,
     "metadata": {},
     "output_type": "execute_result"
    }
   ],
   "execution_count": 5
  },
  {
   "metadata": {},
   "cell_type": "markdown",
   "source": "Part 2:",
   "id": "b7569122e61e93b2"
  },
  {
   "metadata": {
    "ExecuteTime": {
     "end_time": "2025-02-23T20:19:09.968502Z",
     "start_time": "2025-02-23T20:19:09.958630Z"
    }
   },
   "cell_type": "code",
   "source": [
    "def safe_divide(a, b):\n",
    "    try:\n",
    "        return a/b\n",
    "    except ZeroDivisionError:\n",
    "        return \"Error: Cannot divide by zero\"\n",
    "\n",
    "print(safe_divide(10, 2))\n",
    "print(safe_divide(10, 0))"
   ],
   "id": "4184ca4618283a5d",
   "outputs": [
    {
     "name": "stdout",
     "output_type": "stream",
     "text": [
      "5.0\n",
      "Error: Cannot divide by zero\n"
     ]
    }
   ],
   "execution_count": 6
  },
  {
   "metadata": {
    "ExecuteTime": {
     "end_time": "2025-02-23T20:25:29.302684Z",
     "start_time": "2025-02-23T20:25:29.267753Z"
    }
   },
   "cell_type": "code",
   "source": [
    "def check_age(age):\n",
    "    if age != int(age) or age < 0:\n",
    "        raise ValueError(\"Age must be a positive integer\")\n",
    "    else:\n",
    "        print(\"Valid\")\n",
    "\n",
    "check_age(5)\n",
    "check_age(-1)"
   ],
   "id": "4d067e384f59e490",
   "outputs": [
    {
     "name": "stdout",
     "output_type": "stream",
     "text": [
      "Valid\n"
     ]
    },
    {
     "ename": "ValueError",
     "evalue": "Age must be a positive integer",
     "output_type": "error",
     "traceback": [
      "\u001B[1;31m---------------------------------------------------------------------------\u001B[0m",
      "\u001B[1;31mValueError\u001B[0m                                Traceback (most recent call last)",
      "Cell \u001B[1;32mIn[11], line 8\u001B[0m\n\u001B[0;32m      5\u001B[0m         \u001B[38;5;28mprint\u001B[39m(\u001B[38;5;124m\"\u001B[39m\u001B[38;5;124mValid\u001B[39m\u001B[38;5;124m\"\u001B[39m)\n\u001B[0;32m      7\u001B[0m check_age(\u001B[38;5;241m5\u001B[39m)\n\u001B[1;32m----> 8\u001B[0m check_age(\u001B[38;5;241m-\u001B[39m\u001B[38;5;241m1\u001B[39m)\n",
      "Cell \u001B[1;32mIn[11], line 3\u001B[0m, in \u001B[0;36mcheck_age\u001B[1;34m(age)\u001B[0m\n\u001B[0;32m      1\u001B[0m \u001B[38;5;28;01mdef\u001B[39;00m \u001B[38;5;21mcheck_age\u001B[39m(age):\n\u001B[0;32m      2\u001B[0m     \u001B[38;5;28;01mif\u001B[39;00m age \u001B[38;5;241m!=\u001B[39m \u001B[38;5;28mint\u001B[39m(age) \u001B[38;5;129;01mor\u001B[39;00m age \u001B[38;5;241m<\u001B[39m \u001B[38;5;241m0\u001B[39m:\n\u001B[1;32m----> 3\u001B[0m         \u001B[38;5;28;01mraise\u001B[39;00m \u001B[38;5;167;01mValueError\u001B[39;00m(\u001B[38;5;124m\"\u001B[39m\u001B[38;5;124mAge must be a positive integer\u001B[39m\u001B[38;5;124m\"\u001B[39m)\n\u001B[0;32m      4\u001B[0m     \u001B[38;5;28;01melse\u001B[39;00m:\n\u001B[0;32m      5\u001B[0m         \u001B[38;5;28mprint\u001B[39m(\u001B[38;5;124m\"\u001B[39m\u001B[38;5;124mValid\u001B[39m\u001B[38;5;124m\"\u001B[39m)\n",
      "\u001B[1;31mValueError\u001B[0m: Age must be a positive integer"
     ]
    }
   ],
   "execution_count": 11
  },
  {
   "metadata": {
    "ExecuteTime": {
     "end_time": "2025-02-23T20:29:31.825656Z",
     "start_time": "2025-02-23T20:29:31.817432Z"
    }
   },
   "cell_type": "code",
   "source": [
    "def parse_int(value):\n",
    "    try:\n",
    "        return int(value)\n",
    "    except ValueError:\n",
    "        return \"Error in converting to integer\"\n",
    "\n",
    "print(parse_int(\"123\"))\n",
    "print(parse_int(\"abc\"))"
   ],
   "id": "a5b5a7edb590e2d8",
   "outputs": [
    {
     "name": "stdout",
     "output_type": "stream",
     "text": [
      "123\n",
      "Error in converting to integer\n"
     ]
    }
   ],
   "execution_count": 12
  },
  {
   "metadata": {
    "ExecuteTime": {
     "end_time": "2025-02-23T20:36:31.382357Z",
     "start_time": "2025-02-23T20:36:31.373637Z"
    }
   },
   "cell_type": "code",
   "source": [
    "def safe_divide(a, b):\n",
    "    try:\n",
    "        return a/b\n",
    "    except ZeroDivisionError:\n",
    "        return \"Error: Cannot divide by zero\"\n",
    "    finally:\n",
    "        print(\"Division attempted\")\n",
    "\n",
    "print(safe_divide(10, 2))\n",
    "print(safe_divide(10, 0))"
   ],
   "id": "77fd50ed79afd3c6",
   "outputs": [
    {
     "name": "stdout",
     "output_type": "stream",
     "text": [
      "Division attempted\n",
      "5.0\n",
      "Division attempted\n",
      "Error: Cannot divide by zero\n"
     ]
    }
   ],
   "execution_count": 13
  },
  {
   "metadata": {},
   "cell_type": "markdown",
   "source": "Part 3:",
   "id": "eb6658cd8e6f4ef6"
  },
  {
   "metadata": {
    "ExecuteTime": {
     "end_time": "2025-02-23T22:33:04.856312Z",
     "start_time": "2025-02-23T22:33:04.845261Z"
    }
   },
   "cell_type": "code",
   "source": [
    "i = iter([5, 4, 3, 2, 1])\n",
    "\n",
    "print(next(i))\n",
    "print(next(i))\n",
    "print(next(i))\n",
    "print(next(i))\n",
    "print(next(i))"
   ],
   "id": "ffb015fcc89805c4",
   "outputs": [
    {
     "name": "stdout",
     "output_type": "stream",
     "text": [
      "5\n",
      "4\n",
      "3\n",
      "2\n",
      "1\n"
     ]
    }
   ],
   "execution_count": 15
  },
  {
   "metadata": {
    "ExecuteTime": {
     "end_time": "2025-02-23T23:13:15.051225Z",
     "start_time": "2025-02-23T23:13:15.041898Z"
    }
   },
   "cell_type": "code",
   "source": [
    "words = (\"these\", \"words\", \"will\", \"become\", \"uppercase\")\n",
    "G = (word.upper() for word in words)\n",
    "\n",
    "for word in G:\n",
    "    print(word, end=' ')"
   ],
   "id": "20db56a27451458d",
   "outputs": [
    {
     "name": "stdout",
     "output_type": "stream",
     "text": [
      "THESE WORDS WILL BECOME UPPERCASE "
     ]
    }
   ],
   "execution_count": 18
  },
  {
   "metadata": {
    "ExecuteTime": {
     "end_time": "2025-02-23T23:43:32.597550Z",
     "start_time": "2025-02-23T23:43:32.589465Z"
    }
   },
   "cell_type": "code",
   "source": [
    "class Countdown:\n",
    "    def __init__(self, num):\n",
    "        if num > 0:\n",
    "            self.num = num\n",
    "        else:\n",
    "            self.num = 0\n",
    "    def __iter__(self):\n",
    "        return self\n",
    "    def __next__(self):\n",
    "        if self.num >= 0:\n",
    "            n = self.num\n",
    "            self.num -= 1\n",
    "            return n\n",
    "\n",
    "newCountdown = Countdown(5)\n",
    "\n",
    "for i in range(7):\n",
    "    print(next(newCountdown))"
   ],
   "id": "7ec13226fc715413",
   "outputs": [
    {
     "name": "stdout",
     "output_type": "stream",
     "text": [
      "5\n",
      "4\n",
      "3\n",
      "2\n",
      "1\n",
      "0\n",
      "None\n"
     ]
    }
   ],
   "execution_count": 13
  },
  {
   "metadata": {
    "ExecuteTime": {
     "end_time": "2025-02-24T00:42:19.176360Z",
     "start_time": "2025-02-24T00:42:19.171321Z"
    }
   },
   "cell_type": "code",
   "source": [
    "import itertools\n",
    "\n",
    "I = itertools.cycle([\"red\", \"blue\", \"green\"])\n",
    "\n",
    "for i in range(6):\n",
    "    print(next(I))"
   ],
   "id": "37e2bcf4a2c6d720",
   "outputs": [
    {
     "name": "stdout",
     "output_type": "stream",
     "text": [
      "red\n",
      "blue\n",
      "green\n",
      "red\n",
      "blue\n",
      "green\n"
     ]
    }
   ],
   "execution_count": 15
  }
 ],
 "metadata": {
  "kernelspec": {
   "display_name": "Python 3",
   "language": "python",
   "name": "python3"
  },
  "language_info": {
   "codemirror_mode": {
    "name": "ipython",
    "version": 2
   },
   "file_extension": ".py",
   "mimetype": "text/x-python",
   "name": "python",
   "nbconvert_exporter": "python",
   "pygments_lexer": "ipython2",
   "version": "2.7.6"
  }
 },
 "nbformat": 4,
 "nbformat_minor": 5
}
